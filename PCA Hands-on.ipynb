{
 "cells": [
  {
   "cell_type": "code",
   "execution_count": 1,
   "id": "141a172b",
   "metadata": {},
   "outputs": [],
   "source": [
    "import pandas as pd"
   ]
  },
  {
   "cell_type": "code",
   "execution_count": 2,
   "id": "9474afc1",
   "metadata": {},
   "outputs": [],
   "source": [
    "data = pd.read_csv(\"C:\\\\Users\\\\raghu\\\\Downloads\\\\GYM.csv\")"
   ]
  },
  {
   "cell_type": "code",
   "execution_count": 3,
   "id": "757e01ba",
   "metadata": {},
   "outputs": [
    {
     "data": {
      "text/html": [
       "<div>\n",
       "<style scoped>\n",
       "    .dataframe tbody tr th:only-of-type {\n",
       "        vertical-align: middle;\n",
       "    }\n",
       "\n",
       "    .dataframe tbody tr th {\n",
       "        vertical-align: top;\n",
       "    }\n",
       "\n",
       "    .dataframe thead th {\n",
       "        text-align: right;\n",
       "    }\n",
       "</style>\n",
       "<table border=\"1\" class=\"dataframe\">\n",
       "  <thead>\n",
       "    <tr style=\"text-align: right;\">\n",
       "      <th></th>\n",
       "      <th>number_people</th>\n",
       "      <th>day_of_week</th>\n",
       "      <th>is_weekend</th>\n",
       "      <th>is_holiday</th>\n",
       "      <th>temperature</th>\n",
       "      <th>is_start_of_semester</th>\n",
       "      <th>is_during_semester</th>\n",
       "      <th>month</th>\n",
       "      <th>hour</th>\n",
       "    </tr>\n",
       "  </thead>\n",
       "  <tbody>\n",
       "    <tr>\n",
       "      <th>0</th>\n",
       "      <td>37</td>\n",
       "      <td>4</td>\n",
       "      <td>0</td>\n",
       "      <td>0</td>\n",
       "      <td>71.76</td>\n",
       "      <td>0</td>\n",
       "      <td>0</td>\n",
       "      <td>8</td>\n",
       "      <td>17</td>\n",
       "    </tr>\n",
       "    <tr>\n",
       "      <th>1</th>\n",
       "      <td>45</td>\n",
       "      <td>4</td>\n",
       "      <td>0</td>\n",
       "      <td>0</td>\n",
       "      <td>71.76</td>\n",
       "      <td>0</td>\n",
       "      <td>0</td>\n",
       "      <td>8</td>\n",
       "      <td>17</td>\n",
       "    </tr>\n",
       "    <tr>\n",
       "      <th>2</th>\n",
       "      <td>40</td>\n",
       "      <td>4</td>\n",
       "      <td>0</td>\n",
       "      <td>0</td>\n",
       "      <td>71.76</td>\n",
       "      <td>0</td>\n",
       "      <td>0</td>\n",
       "      <td>8</td>\n",
       "      <td>17</td>\n",
       "    </tr>\n",
       "    <tr>\n",
       "      <th>3</th>\n",
       "      <td>44</td>\n",
       "      <td>4</td>\n",
       "      <td>0</td>\n",
       "      <td>0</td>\n",
       "      <td>71.76</td>\n",
       "      <td>0</td>\n",
       "      <td>0</td>\n",
       "      <td>8</td>\n",
       "      <td>17</td>\n",
       "    </tr>\n",
       "    <tr>\n",
       "      <th>4</th>\n",
       "      <td>45</td>\n",
       "      <td>4</td>\n",
       "      <td>0</td>\n",
       "      <td>0</td>\n",
       "      <td>71.76</td>\n",
       "      <td>0</td>\n",
       "      <td>0</td>\n",
       "      <td>8</td>\n",
       "      <td>17</td>\n",
       "    </tr>\n",
       "  </tbody>\n",
       "</table>\n",
       "</div>"
      ],
      "text/plain": [
       "   number_people  day_of_week  is_weekend  is_holiday  temperature  \\\n",
       "0             37            4           0           0        71.76   \n",
       "1             45            4           0           0        71.76   \n",
       "2             40            4           0           0        71.76   \n",
       "3             44            4           0           0        71.76   \n",
       "4             45            4           0           0        71.76   \n",
       "\n",
       "   is_start_of_semester  is_during_semester  month  hour  \n",
       "0                     0                   0      8    17  \n",
       "1                     0                   0      8    17  \n",
       "2                     0                   0      8    17  \n",
       "3                     0                   0      8    17  \n",
       "4                     0                   0      8    17  "
      ]
     },
     "execution_count": 3,
     "metadata": {},
     "output_type": "execute_result"
    }
   ],
   "source": [
    "data.head()"
   ]
  },
  {
   "cell_type": "code",
   "execution_count": 4,
   "id": "2aadce9c",
   "metadata": {},
   "outputs": [
    {
     "data": {
      "text/plain": [
       "number_people           0\n",
       "day_of_week             0\n",
       "is_weekend              0\n",
       "is_holiday              0\n",
       "temperature             0\n",
       "is_start_of_semester    0\n",
       "is_during_semester      0\n",
       "month                   0\n",
       "hour                    0\n",
       "dtype: int64"
      ]
     },
     "execution_count": 4,
     "metadata": {},
     "output_type": "execute_result"
    }
   ],
   "source": [
    "data.isnull().sum()"
   ]
  },
  {
   "cell_type": "code",
   "execution_count": 5,
   "id": "b434cb4d",
   "metadata": {},
   "outputs": [
    {
     "data": {
      "text/plain": [
       "14218"
      ]
     },
     "execution_count": 5,
     "metadata": {},
     "output_type": "execute_result"
    }
   ],
   "source": [
    "data.duplicated().sum()"
   ]
  },
  {
   "cell_type": "code",
   "execution_count": 6,
   "id": "163d3613",
   "metadata": {},
   "outputs": [
    {
     "data": {
      "text/plain": [
       "(62184, 9)"
      ]
     },
     "execution_count": 6,
     "metadata": {},
     "output_type": "execute_result"
    }
   ],
   "source": [
    "data.shape"
   ]
  },
  {
   "cell_type": "code",
   "execution_count": 7,
   "id": "a7d2a0e7",
   "metadata": {},
   "outputs": [],
   "source": [
    "data.drop_duplicates(inplace=True)"
   ]
  },
  {
   "cell_type": "code",
   "execution_count": 8,
   "id": "1836faf9",
   "metadata": {},
   "outputs": [
    {
     "data": {
      "text/plain": [
       "(47966, 9)"
      ]
     },
     "execution_count": 8,
     "metadata": {},
     "output_type": "execute_result"
    }
   ],
   "source": [
    "data.shape"
   ]
  },
  {
   "cell_type": "code",
   "execution_count": 9,
   "id": "830679f2",
   "metadata": {},
   "outputs": [
    {
     "name": "stderr",
     "output_type": "stream",
     "text": [
      "C:\\Users\\raghu\\anaconda3\\lib\\site-packages\\scipy\\__init__.py:155: UserWarning: A NumPy version >=1.18.5 and <1.25.0 is required for this version of SciPy (detected version 1.25.0\n",
      "  warnings.warn(f\"A NumPy version >={np_minversion} and <{np_maxversion}\"\n"
     ]
    }
   ],
   "source": [
    "from sklearn.preprocessing import StandardScaler\n",
    "scaler=StandardScaler()"
   ]
  },
  {
   "cell_type": "code",
   "execution_count": 10,
   "id": "5ff13890",
   "metadata": {},
   "outputs": [],
   "source": [
    "import warnings\n",
    "warnings.filterwarnings('ignore')"
   ]
  },
  {
   "cell_type": "code",
   "execution_count": 11,
   "id": "3a22690d",
   "metadata": {},
   "outputs": [],
   "source": [
    "x=data.drop(\"hour\",axis=1)"
   ]
  },
  {
   "cell_type": "code",
   "execution_count": 12,
   "id": "bda4888b",
   "metadata": {},
   "outputs": [
    {
     "data": {
      "text/plain": [
       "array([[ 0.15488137,  0.55469165, -0.59563445, ..., -0.3064561 ,\n",
       "        -1.50439861,  0.19901159],\n",
       "       [ 0.52504011,  0.55469165, -0.59563445, ..., -0.3064561 ,\n",
       "        -1.50439861,  0.19901159],\n",
       "       [ 0.29369089,  0.55469165, -0.59563445, ..., -0.3064561 ,\n",
       "        -1.50439861,  0.19901159],\n",
       "       ...,\n",
       "       [-0.40035674,  1.06109324,  1.67888207, ..., -0.3064561 ,\n",
       "         0.66471744, -1.24666308],\n",
       "       [-0.72424564,  1.06109324,  1.67888207, ..., -0.3064561 ,\n",
       "         0.66471744, -1.24666308],\n",
       "       [-0.49289643,  1.06109324,  1.67888207, ..., -0.3064561 ,\n",
       "         0.66471744, -1.24666308]])"
      ]
     },
     "execution_count": 12,
     "metadata": {},
     "output_type": "execute_result"
    }
   ],
   "source": [
    "x_scaled=scaler.fit_transform(x)\n",
    "x_scaled"
   ]
  },
  {
   "cell_type": "code",
   "execution_count": 21,
   "id": "7d50132c",
   "metadata": {},
   "outputs": [],
   "source": [
    "from sklearn.decomposition import PCA\n",
    "pca=PCA(n_components=2)"
   ]
  },
  {
   "cell_type": "code",
   "execution_count": 22,
   "id": "eff6dcb6",
   "metadata": {},
   "outputs": [],
   "source": [
    "pca_data=pca.fit_transform(x_scaled)"
   ]
  },
  {
   "cell_type": "code",
   "execution_count": 31,
   "id": "31e50fb7",
   "metadata": {},
   "outputs": [
    {
     "data": {
      "text/plain": [
       "array([[-0.03746957, -0.21907648],\n",
       "       [ 0.10292297, -0.38866629],\n",
       "       [ 0.01517764, -0.28267266],\n",
       "       ...,\n",
       "       [-1.77621089, -0.61707962],\n",
       "       [-1.89905437, -0.46868853],\n",
       "       [-1.81130903, -0.57468216]])"
      ]
     },
     "execution_count": 31,
     "metadata": {},
     "output_type": "execute_result"
    }
   ],
   "source": [
    "pca_data"
   ]
  },
  {
   "cell_type": "code",
   "execution_count": 25,
   "id": "05ac9e36",
   "metadata": {},
   "outputs": [],
   "source": [
    "x_scaled_back=pca.inverse_transform(pca_data)"
   ]
  },
  {
   "cell_type": "code",
   "execution_count": 28,
   "id": "23931ed6",
   "metadata": {},
   "outputs": [
    {
     "data": {
      "text/plain": [
       "(47966, 8)"
      ]
     },
     "execution_count": 28,
     "metadata": {},
     "output_type": "execute_result"
    }
   ],
   "source": [
    "x_scaled_back.shape"
   ]
  },
  {
   "cell_type": "code",
   "execution_count": 30,
   "id": "65d06d80",
   "metadata": {},
   "outputs": [
    {
     "data": {
      "text/plain": [
       "8.0"
      ]
     },
     "execution_count": 30,
     "metadata": {},
     "output_type": "execute_result"
    }
   ],
   "source": [
    "import numpy as np\n",
    "ov=np.var(x_scaled,axis=0).sum()\n",
    "ov"
   ]
  },
  {
   "cell_type": "code",
   "execution_count": 33,
   "id": "502227ae",
   "metadata": {},
   "outputs": [],
   "source": [
    "reconstructed_variance = np.var(x_scaled_back, axis=0).sum()"
   ]
  },
  {
   "cell_type": "code",
   "execution_count": 34,
   "id": "8650b9be",
   "metadata": {},
   "outputs": [
    {
     "data": {
      "text/plain": [
       "3.481164219258442"
      ]
     },
     "execution_count": 34,
     "metadata": {},
     "output_type": "execute_result"
    }
   ],
   "source": [
    "reconstructed_variance"
   ]
  },
  {
   "cell_type": "code",
   "execution_count": 35,
   "id": "6ce8f185",
   "metadata": {},
   "outputs": [
    {
     "data": {
      "text/plain": [
       "4.518835780741558"
      ]
     },
     "execution_count": 35,
     "metadata": {},
     "output_type": "execute_result"
    }
   ],
   "source": [
    "8-3.481164219258442"
   ]
  },
  {
   "cell_type": "code",
   "execution_count": 36,
   "id": "a318aa3a",
   "metadata": {},
   "outputs": [],
   "source": [
    "ov=np.var(pca_data,axis=0).sum()"
   ]
  },
  {
   "cell_type": "code",
   "execution_count": 37,
   "id": "840be5da",
   "metadata": {},
   "outputs": [
    {
     "data": {
      "text/plain": [
       "3.481164219258439"
      ]
     },
     "execution_count": 37,
     "metadata": {},
     "output_type": "execute_result"
    }
   ],
   "source": [
    "ov"
   ]
  },
  {
   "cell_type": "code",
   "execution_count": 38,
   "id": "ceb828ce",
   "metadata": {},
   "outputs": [
    {
     "data": {
      "text/html": [
       "<div>\n",
       "<style scoped>\n",
       "    .dataframe tbody tr th:only-of-type {\n",
       "        vertical-align: middle;\n",
       "    }\n",
       "\n",
       "    .dataframe tbody tr th {\n",
       "        vertical-align: top;\n",
       "    }\n",
       "\n",
       "    .dataframe thead th {\n",
       "        text-align: right;\n",
       "    }\n",
       "</style>\n",
       "<table border=\"1\" class=\"dataframe\">\n",
       "  <thead>\n",
       "    <tr style=\"text-align: right;\">\n",
       "      <th></th>\n",
       "      <th>number_people</th>\n",
       "      <th>day_of_week</th>\n",
       "      <th>is_weekend</th>\n",
       "      <th>is_holiday</th>\n",
       "      <th>temperature</th>\n",
       "      <th>is_start_of_semester</th>\n",
       "      <th>is_during_semester</th>\n",
       "      <th>month</th>\n",
       "      <th>hour</th>\n",
       "    </tr>\n",
       "  </thead>\n",
       "  <tbody>\n",
       "    <tr>\n",
       "      <th>number_people</th>\n",
       "      <td>1.000000</td>\n",
       "      <td>-0.146298</td>\n",
       "      <td>-0.150431</td>\n",
       "      <td>-0.042411</td>\n",
       "      <td>0.323779</td>\n",
       "      <td>0.190029</td>\n",
       "      <td>0.332529</td>\n",
       "      <td>-0.065366</td>\n",
       "      <td>0.486666</td>\n",
       "    </tr>\n",
       "    <tr>\n",
       "      <th>day_of_week</th>\n",
       "      <td>-0.146298</td>\n",
       "      <td>1.000000</td>\n",
       "      <td>0.780353</td>\n",
       "      <td>-0.063419</td>\n",
       "      <td>0.028941</td>\n",
       "      <td>-0.007247</td>\n",
       "      <td>-0.006748</td>\n",
       "      <td>0.005173</td>\n",
       "      <td>0.041358</td>\n",
       "    </tr>\n",
       "    <tr>\n",
       "      <th>is_weekend</th>\n",
       "      <td>-0.150431</td>\n",
       "      <td>0.780353</td>\n",
       "      <td>1.000000</td>\n",
       "      <td>-0.025681</td>\n",
       "      <td>0.042101</td>\n",
       "      <td>-0.011238</td>\n",
       "      <td>-0.034841</td>\n",
       "      <td>0.003287</td>\n",
       "      <td>0.056542</td>\n",
       "    </tr>\n",
       "    <tr>\n",
       "      <th>is_holiday</th>\n",
       "      <td>-0.042411</td>\n",
       "      <td>-0.063419</td>\n",
       "      <td>-0.025681</td>\n",
       "      <td>1.000000</td>\n",
       "      <td>-0.075868</td>\n",
       "      <td>-0.013213</td>\n",
       "      <td>-0.064863</td>\n",
       "      <td>-0.078683</td>\n",
       "      <td>0.010841</td>\n",
       "    </tr>\n",
       "    <tr>\n",
       "      <th>temperature</th>\n",
       "      <td>0.323779</td>\n",
       "      <td>0.028941</td>\n",
       "      <td>0.042101</td>\n",
       "      <td>-0.075868</td>\n",
       "      <td>1.000000</td>\n",
       "      <td>0.084437</td>\n",
       "      <td>0.113565</td>\n",
       "      <td>0.120793</td>\n",
       "      <td>0.146436</td>\n",
       "    </tr>\n",
       "    <tr>\n",
       "      <th>is_start_of_semester</th>\n",
       "      <td>0.190029</td>\n",
       "      <td>-0.007247</td>\n",
       "      <td>-0.011238</td>\n",
       "      <td>-0.013213</td>\n",
       "      <td>0.084437</td>\n",
       "      <td>1.000000</td>\n",
       "      <td>0.203707</td>\n",
       "      <td>-0.140239</td>\n",
       "      <td>-0.001930</td>\n",
       "    </tr>\n",
       "    <tr>\n",
       "      <th>is_during_semester</th>\n",
       "      <td>0.332529</td>\n",
       "      <td>-0.006748</td>\n",
       "      <td>-0.034841</td>\n",
       "      <td>-0.064863</td>\n",
       "      <td>0.113565</td>\n",
       "      <td>0.203707</td>\n",
       "      <td>1.000000</td>\n",
       "      <td>0.107893</td>\n",
       "      <td>0.009605</td>\n",
       "    </tr>\n",
       "    <tr>\n",
       "      <th>month</th>\n",
       "      <td>-0.065366</td>\n",
       "      <td>0.005173</td>\n",
       "      <td>0.003287</td>\n",
       "      <td>-0.078683</td>\n",
       "      <td>0.120793</td>\n",
       "      <td>-0.140239</td>\n",
       "      <td>0.107893</td>\n",
       "      <td>1.000000</td>\n",
       "      <td>-0.010255</td>\n",
       "    </tr>\n",
       "    <tr>\n",
       "      <th>hour</th>\n",
       "      <td>0.486666</td>\n",
       "      <td>0.041358</td>\n",
       "      <td>0.056542</td>\n",
       "      <td>0.010841</td>\n",
       "      <td>0.146436</td>\n",
       "      <td>-0.001930</td>\n",
       "      <td>0.009605</td>\n",
       "      <td>-0.010255</td>\n",
       "      <td>1.000000</td>\n",
       "    </tr>\n",
       "  </tbody>\n",
       "</table>\n",
       "</div>"
      ],
      "text/plain": [
       "                      number_people  day_of_week  is_weekend  is_holiday  \\\n",
       "number_people              1.000000    -0.146298   -0.150431   -0.042411   \n",
       "day_of_week               -0.146298     1.000000    0.780353   -0.063419   \n",
       "is_weekend                -0.150431     0.780353    1.000000   -0.025681   \n",
       "is_holiday                -0.042411    -0.063419   -0.025681    1.000000   \n",
       "temperature                0.323779     0.028941    0.042101   -0.075868   \n",
       "is_start_of_semester       0.190029    -0.007247   -0.011238   -0.013213   \n",
       "is_during_semester         0.332529    -0.006748   -0.034841   -0.064863   \n",
       "month                     -0.065366     0.005173    0.003287   -0.078683   \n",
       "hour                       0.486666     0.041358    0.056542    0.010841   \n",
       "\n",
       "                      temperature  is_start_of_semester  is_during_semester  \\\n",
       "number_people            0.323779              0.190029            0.332529   \n",
       "day_of_week              0.028941             -0.007247           -0.006748   \n",
       "is_weekend               0.042101             -0.011238           -0.034841   \n",
       "is_holiday              -0.075868             -0.013213           -0.064863   \n",
       "temperature              1.000000              0.084437            0.113565   \n",
       "is_start_of_semester     0.084437              1.000000            0.203707   \n",
       "is_during_semester       0.113565              0.203707            1.000000   \n",
       "month                    0.120793             -0.140239            0.107893   \n",
       "hour                     0.146436             -0.001930            0.009605   \n",
       "\n",
       "                         month      hour  \n",
       "number_people        -0.065366  0.486666  \n",
       "day_of_week           0.005173  0.041358  \n",
       "is_weekend            0.003287  0.056542  \n",
       "is_holiday           -0.078683  0.010841  \n",
       "temperature           0.120793  0.146436  \n",
       "is_start_of_semester -0.140239 -0.001930  \n",
       "is_during_semester    0.107893  0.009605  \n",
       "month                 1.000000 -0.010255  \n",
       "hour                 -0.010255  1.000000  "
      ]
     },
     "execution_count": 38,
     "metadata": {},
     "output_type": "execute_result"
    }
   ],
   "source": [
    "data.corr()"
   ]
  },
  {
   "cell_type": "code",
   "execution_count": 42,
   "id": "0d438485",
   "metadata": {},
   "outputs": [
    {
     "name": "stdout",
     "output_type": "stream",
     "text": [
      "Minimum correlation: -0.15043076822928994\n"
     ]
    }
   ],
   "source": [
    "min_correlation = data.corr().unstack().sort_values().iloc[0]\n",
    "\n",
    "print(f\"Minimum correlation: {min_correlation}\")"
   ]
  },
  {
   "cell_type": "code",
   "execution_count": 48,
   "id": "c233b9b4",
   "metadata": {},
   "outputs": [
    {
     "name": "stdout",
     "output_type": "stream",
     "text": [
      "Sum of eigenvalues for the first 8 components: 8.000128652525607\n"
     ]
    }
   ],
   "source": [
    "import pandas as pd\n",
    "from sklearn.preprocessing import StandardScaler\n",
    "from sklearn.decomposition import PCA\n",
    "\n",
    "# Load the dataset\n",
    "data = pd.read_csv(\"C:\\\\Users\\\\raghu\\\\Downloads\\\\GYM.csv\")\n",
    "\n",
    "# Assume the target column (if any) is excluded from the data\n",
    "X = data.drop(columns=['hour'])  # Modify this as per your dataset\n",
    "\n",
    "# Standardize the data\n",
    "scaler = StandardScaler()\n",
    "X_scaled = scaler.fit_transform(X)\n",
    "\n",
    "# Apply PCA\n",
    "pca = PCA(n_components=0.99)\n",
    "pca.fit(X_scaled)\n",
    "\n",
    "# Get the explained variance (eigenvalues)\n",
    "eigenvalues = pca.explained_variance_\n",
    "\n",
    "# Calculate the sum of the first 8 eigenvalues\n",
    "sum_eigenvalues_first_8 = eigenvalues[:8].sum()\n",
    "\n",
    "print(f\"Sum of eigenvalues for the first 8 components: {sum_eigenvalues_first_8}\")\n"
   ]
  },
  {
   "cell_type": "code",
   "execution_count": 49,
   "id": "7bfc5360",
   "metadata": {},
   "outputs": [
    {
     "data": {
      "text/plain": [
       "array([1.92509186, 1.62554618, 1.16810664, 0.92875016, 0.91149889,\n",
       "       0.73610627, 0.49834257, 0.20668608])"
      ]
     },
     "execution_count": 49,
     "metadata": {},
     "output_type": "execute_result"
    }
   ],
   "source": [
    "eigenvalues"
   ]
  },
  {
   "cell_type": "code",
   "execution_count": 51,
   "id": "bf8f61b1",
   "metadata": {},
   "outputs": [
    {
     "name": "stdout",
     "output_type": "stream",
     "text": [
      "RMSE for Model 1 (raw data): 5.439104717333018\n",
      "RMSE for Model 2 (PCA-transformed data): 6.142322771399546\n",
      "Model 2 performance is not better than Model 1\n"
     ]
    }
   ],
   "source": [
    "import pandas as pd\n",
    "from sklearn.model_selection import train_test_split\n",
    "from sklearn.preprocessing import StandardScaler\n",
    "from sklearn.decomposition import PCA\n",
    "from sklearn.linear_model import LinearRegression\n",
    "from sklearn.metrics import mean_squared_error\n",
    "import numpy as np\n",
    "\n",
    "# Load the dataset\n",
    "data = pd.read_csv(\"C:\\\\Users\\\\raghu\\\\Downloads\\\\GYM.csv\")\n",
    "# data.drop_duplicates(inplace=True)\n",
    "\n",
    "# Assume the target column (if any) is named 'target'\n",
    "X = data.drop(columns=['hour'])  # Features\n",
    "y = data['hour']  # Target\n",
    "\n",
    "# Standardize the data\n",
    "scaler = StandardScaler()\n",
    "X_scaled = scaler.fit_transform(X)\n",
    "\n",
    "# Split the data\n",
    "X_train, X_test, y_train, y_test = train_test_split(X_scaled, y, test_size=0.2, random_state=24)\n",
    "\n",
    "# Model 1: Linear Regression on raw data\n",
    "model1 = LinearRegression()\n",
    "model1.fit(X_train, y_train)\n",
    "y_pred1 = model1.predict(X_test)\n",
    "rmse1 = np.sqrt(mean_squared_error(y_test, y_pred1))\n",
    "\n",
    "# Apply PCA with n_components=4\n",
    "pca = PCA(n_components=4)\n",
    "X_train_pca = pca.fit_transform(X_train)\n",
    "X_test_pca = pca.transform(X_test)\n",
    "\n",
    "# Model 2: Linear Regression on PCA-transformed data\n",
    "model2 = LinearRegression()\n",
    "model2.fit(X_train_pca, y_train)\n",
    "y_pred2 = model2.predict(X_test_pca)\n",
    "rmse2 = np.sqrt(mean_squared_error(y_test, y_pred2))\n",
    "\n",
    "# Print RMSE values and compare\n",
    "print(f\"RMSE for Model 1 (raw data): {rmse1}\")\n",
    "print(f\"RMSE for Model 2 (PCA-transformed data): {rmse2}\")\n",
    "\n",
    "# Compare performance\n",
    "if rmse2 < rmse1:\n",
    "    print(\"Model 2 performance is better than Model 1\")\n",
    "elif rmse2 == rmse1:\n",
    "    print(\"No change in performance\")\n",
    "else:\n",
    "    print(\"Model 2 performance is not better than Model 1\")\n"
   ]
  },
  {
   "cell_type": "code",
   "execution_count": 53,
   "id": "384f3907",
   "metadata": {},
   "outputs": [
    {
     "name": "stdout",
     "output_type": "stream",
     "text": [
      "RMSE for Model 1 (raw data): 5.439104717333018\n",
      "RMSE for Model 2 (StandardScaler & PCA-transformed data): 6.201957223070592\n",
      "Model 2 performance is not better than Model 1\n"
     ]
    }
   ],
   "source": [
    "import pandas as pd\n",
    "from sklearn.model_selection import train_test_split\n",
    "from sklearn.preprocessing import StandardScaler\n",
    "from sklearn.decomposition import PCA\n",
    "from sklearn.linear_model import LinearRegression\n",
    "from sklearn.metrics import mean_squared_error\n",
    "import numpy as np\n",
    "\n",
    "# Load the dataset\n",
    "data = pd.read_csv(\"C:\\\\Users\\\\raghu\\\\Downloads\\\\GYM.csv\")\n",
    "\n",
    "# Assume the target column (if any) is named 'target'\n",
    "X = data.drop(columns=['hour'])  # Features\n",
    "y = data['hour']  # Target\n",
    "\n",
    "# Split the data\n",
    "X_train, X_test, y_train, y_test = train_test_split(X, y, test_size=0.2, random_state=24)\n",
    "\n",
    "# Model 1: Linear Regression on raw data\n",
    "model1 = LinearRegression()\n",
    "model1.fit(X_train, y_train)\n",
    "y_pred1 = model1.predict(X_test)\n",
    "rmse1 = np.sqrt(mean_squared_error(y_test, y_pred1))\n",
    "\n",
    "# Apply StandardScaler and PCA with n_components=4\n",
    "scaler = StandardScaler()\n",
    "X_train_scaled = scaler.fit_transform(X_train)\n",
    "X_test_scaled = scaler.transform(X_test)\n",
    "\n",
    "pca = PCA(n_components=4)\n",
    "X_train_pca = pca.fit_transform(X_train_scaled)\n",
    "X_test_pca = pca.transform(X_test_scaled)\n",
    "\n",
    "# Model 2: Linear Regression on PCA-transformed data\n",
    "model2 = LinearRegression()\n",
    "model2.fit(X_train_pca, y_train)\n",
    "y_pred2 = model2.predict(X_test_pca)\n",
    "rmse2 = np.sqrt(mean_squared_error(y_test, y_pred2))\n",
    "\n",
    "# Print RMSE values and compare\n",
    "print(f\"RMSE for Model 1 (raw data): {rmse1}\")\n",
    "print(f\"RMSE for Model 2 (StandardScaler & PCA-transformed data): {rmse2}\")\n",
    "\n",
    "# Compare performance\n",
    "if rmse2 < rmse1:\n",
    "    print(\"Model 2 performance is better than Model 1\")\n",
    "elif rmse2 == rmse1:\n",
    "    print(\"No change in performance\")\n",
    "else:\n",
    "    print(\"Model 2 performance is not better than Model 1\")\n"
   ]
  },
  {
   "cell_type": "code",
   "execution_count": null,
   "id": "69767f7d",
   "metadata": {},
   "outputs": [],
   "source": []
  }
 ],
 "metadata": {
  "kernelspec": {
   "display_name": "Python 3 (ipykernel)",
   "language": "python",
   "name": "python3"
  },
  "language_info": {
   "codemirror_mode": {
    "name": "ipython",
    "version": 3
   },
   "file_extension": ".py",
   "mimetype": "text/x-python",
   "name": "python",
   "nbconvert_exporter": "python",
   "pygments_lexer": "ipython3",
   "version": "3.9.13"
  }
 },
 "nbformat": 4,
 "nbformat_minor": 5
}
